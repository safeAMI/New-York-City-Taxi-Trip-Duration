{
 "cells": [
  {
   "cell_type": "code",
   "execution_count": 1,
   "id": "463b0c4f",
   "metadata": {},
   "outputs": [],
   "source": [
    "import numpy as np\n",
    "import pandas as pd\n",
    "import seaborn as sns\n",
    "import matplotlib.pyplot as plt"
   ]
  },
  {
   "cell_type": "code",
   "execution_count": 2,
   "id": "764916a7",
   "metadata": {},
   "outputs": [],
   "source": [
    "train_df = pd.read_csv(\"../data/train.csv\", index_col = 0)\n",
    "test_df = pd.read_csv(\"../data/test.csv\", index_col = 0)"
   ]
  },
  {
   "cell_type": "code",
   "execution_count": 3,
   "id": "running-andorra",
   "metadata": {},
   "outputs": [],
   "source": [
    "#import pandas_profiling as ppf\n",
    "#ppf.ProfileReport(train_df)"
   ]
  },
  {
   "cell_type": "markdown",
   "id": "understanding-voltage",
   "metadata": {},
   "source": [
    "### 去除异常值和无效值"
   ]
  },
  {
   "cell_type": "markdown",
   "id": "basic-administrator",
   "metadata": {},
   "source": [
    "##### passenger_count的异常值"
   ]
  },
  {
   "cell_type": "code",
   "execution_count": 4,
   "id": "pursuant-integer",
   "metadata": {},
   "outputs": [
    {
     "data": {
      "text/plain": [
       "1    1033540\n",
       "2     210318\n",
       "5      78088\n",
       "3      59896\n",
       "6      48333\n",
       "4      28404\n",
       "0         60\n",
       "7          3\n",
       "9          1\n",
       "8          1\n",
       "Name: passenger_count, dtype: int64"
      ]
     },
     "execution_count": 4,
     "metadata": {},
     "output_type": "execute_result"
    }
   ],
   "source": [
    "train_df['passenger_count'].value_counts()"
   ]
  },
  {
   "cell_type": "code",
   "execution_count": 5,
   "id": "responsible-aurora",
   "metadata": {},
   "outputs": [],
   "source": [
    "train_df = train_df.drop(train_df[train_df['passenger_count']>6].index)"
   ]
  },
  {
   "cell_type": "markdown",
   "id": "manufactured-cloud",
   "metadata": {},
   "source": [
    "#### 去除trip_duration的异常值，三个标准差之类"
   ]
  },
  {
   "cell_type": "code",
   "execution_count": 6,
   "id": "imported-senator",
   "metadata": {},
   "outputs": [],
   "source": [
    "m = np.mean(train_df['trip_duration'])\n",
    "s = np.std(train_df['trip_duration'])\n",
    "train_df = train_df[train_df['trip_duration'] <= m + 3*s]\n",
    "train_df = train_df[train_df['trip_duration'] >= m - 3*s]"
   ]
  },
  {
   "cell_type": "markdown",
   "id": "widespread-defense",
   "metadata": {},
   "source": [
    "#### 经纬度中的异常点   city_long_border =(-74.03,-73.75) city_lat_border =(40.63,40.85)"
   ]
  },
  {
   "cell_type": "code",
   "execution_count": 7,
   "id": "partial-portable",
   "metadata": {},
   "outputs": [],
   "source": [
    "train_df = train_df[train_df['pickup_longitude'] <= -73.75]\n",
    "train_df = train_df[train_df['pickup_longitude'] >= -74.03]\n",
    "train_df = train_df[train_df['pickup_latitude'] <= 40.85]\n",
    "train_df = train_df[train_df['pickup_latitude'] >= 40.63]\n",
    "train_df = train_df[train_df['dropoff_longitude'] <= -73.75]\n",
    "train_df = train_df[train_df['dropoff_longitude'] >= -74.03]\n",
    "train_df = train_df[train_df['dropoff_latitude'] <= 40.85]\n",
    "train_df = train_df[train_df['dropoff_latitude'] >= 40.63]"
   ]
  },
  {
   "cell_type": "code",
   "execution_count": 8,
   "id": "medieval-union",
   "metadata": {},
   "outputs": [
    {
     "data": {
      "text/plain": [
       "(1437158, 10)"
      ]
     },
     "execution_count": 8,
     "metadata": {},
     "output_type": "execute_result"
    }
   ],
   "source": [
    "train_df.shape"
   ]
  },
  {
   "cell_type": "code",
   "execution_count": 9,
   "id": "driven-produce",
   "metadata": {},
   "outputs": [
    {
     "data": {
      "text/html": [
       "<div>\n",
       "<style scoped>\n",
       "    .dataframe tbody tr th:only-of-type {\n",
       "        vertical-align: middle;\n",
       "    }\n",
       "\n",
       "    .dataframe tbody tr th {\n",
       "        vertical-align: top;\n",
       "    }\n",
       "\n",
       "    .dataframe thead th {\n",
       "        text-align: right;\n",
       "    }\n",
       "</style>\n",
       "<table border=\"1\" class=\"dataframe\">\n",
       "  <thead>\n",
       "    <tr style=\"text-align: right;\">\n",
       "      <th></th>\n",
       "      <th>vendor_id</th>\n",
       "      <th>pickup_datetime</th>\n",
       "      <th>dropoff_datetime</th>\n",
       "      <th>passenger_count</th>\n",
       "      <th>pickup_longitude</th>\n",
       "      <th>pickup_latitude</th>\n",
       "      <th>dropoff_longitude</th>\n",
       "      <th>dropoff_latitude</th>\n",
       "      <th>store_and_fwd_flag</th>\n",
       "      <th>trip_duration</th>\n",
       "    </tr>\n",
       "    <tr>\n",
       "      <th>id</th>\n",
       "      <th></th>\n",
       "      <th></th>\n",
       "      <th></th>\n",
       "      <th></th>\n",
       "      <th></th>\n",
       "      <th></th>\n",
       "      <th></th>\n",
       "      <th></th>\n",
       "      <th></th>\n",
       "      <th></th>\n",
       "    </tr>\n",
       "  </thead>\n",
       "  <tbody>\n",
       "    <tr>\n",
       "      <th>id2875421</th>\n",
       "      <td>2</td>\n",
       "      <td>2016-03-14 17:24:55</td>\n",
       "      <td>2016-03-14 17:32:30</td>\n",
       "      <td>1</td>\n",
       "      <td>-73.982155</td>\n",
       "      <td>40.767937</td>\n",
       "      <td>-73.964630</td>\n",
       "      <td>40.765602</td>\n",
       "      <td>N</td>\n",
       "      <td>455</td>\n",
       "    </tr>\n",
       "    <tr>\n",
       "      <th>id2377394</th>\n",
       "      <td>1</td>\n",
       "      <td>2016-06-12 00:43:35</td>\n",
       "      <td>2016-06-12 00:54:38</td>\n",
       "      <td>1</td>\n",
       "      <td>-73.980415</td>\n",
       "      <td>40.738564</td>\n",
       "      <td>-73.999481</td>\n",
       "      <td>40.731152</td>\n",
       "      <td>N</td>\n",
       "      <td>663</td>\n",
       "    </tr>\n",
       "    <tr>\n",
       "      <th>id3858529</th>\n",
       "      <td>2</td>\n",
       "      <td>2016-01-19 11:35:24</td>\n",
       "      <td>2016-01-19 12:10:48</td>\n",
       "      <td>1</td>\n",
       "      <td>-73.979027</td>\n",
       "      <td>40.763939</td>\n",
       "      <td>-74.005333</td>\n",
       "      <td>40.710087</td>\n",
       "      <td>N</td>\n",
       "      <td>2124</td>\n",
       "    </tr>\n",
       "    <tr>\n",
       "      <th>id3504673</th>\n",
       "      <td>2</td>\n",
       "      <td>2016-04-06 19:32:31</td>\n",
       "      <td>2016-04-06 19:39:40</td>\n",
       "      <td>1</td>\n",
       "      <td>-74.010040</td>\n",
       "      <td>40.719971</td>\n",
       "      <td>-74.012268</td>\n",
       "      <td>40.706718</td>\n",
       "      <td>N</td>\n",
       "      <td>429</td>\n",
       "    </tr>\n",
       "    <tr>\n",
       "      <th>id2181028</th>\n",
       "      <td>2</td>\n",
       "      <td>2016-03-26 13:30:55</td>\n",
       "      <td>2016-03-26 13:38:10</td>\n",
       "      <td>1</td>\n",
       "      <td>-73.973053</td>\n",
       "      <td>40.793209</td>\n",
       "      <td>-73.972923</td>\n",
       "      <td>40.782520</td>\n",
       "      <td>N</td>\n",
       "      <td>435</td>\n",
       "    </tr>\n",
       "    <tr>\n",
       "      <th>...</th>\n",
       "      <td>...</td>\n",
       "      <td>...</td>\n",
       "      <td>...</td>\n",
       "      <td>...</td>\n",
       "      <td>...</td>\n",
       "      <td>...</td>\n",
       "      <td>...</td>\n",
       "      <td>...</td>\n",
       "      <td>...</td>\n",
       "      <td>...</td>\n",
       "    </tr>\n",
       "    <tr>\n",
       "      <th>id2376096</th>\n",
       "      <td>2</td>\n",
       "      <td>2016-04-08 13:31:04</td>\n",
       "      <td>2016-04-08 13:44:02</td>\n",
       "      <td>4</td>\n",
       "      <td>-73.982201</td>\n",
       "      <td>40.745522</td>\n",
       "      <td>-73.994911</td>\n",
       "      <td>40.740170</td>\n",
       "      <td>N</td>\n",
       "      <td>778</td>\n",
       "    </tr>\n",
       "    <tr>\n",
       "      <th>id1049543</th>\n",
       "      <td>1</td>\n",
       "      <td>2016-01-10 07:35:15</td>\n",
       "      <td>2016-01-10 07:46:10</td>\n",
       "      <td>1</td>\n",
       "      <td>-74.000946</td>\n",
       "      <td>40.747379</td>\n",
       "      <td>-73.970184</td>\n",
       "      <td>40.796547</td>\n",
       "      <td>N</td>\n",
       "      <td>655</td>\n",
       "    </tr>\n",
       "    <tr>\n",
       "      <th>id2304944</th>\n",
       "      <td>2</td>\n",
       "      <td>2016-04-22 06:57:41</td>\n",
       "      <td>2016-04-22 07:10:25</td>\n",
       "      <td>1</td>\n",
       "      <td>-73.959129</td>\n",
       "      <td>40.768799</td>\n",
       "      <td>-74.004433</td>\n",
       "      <td>40.707371</td>\n",
       "      <td>N</td>\n",
       "      <td>764</td>\n",
       "    </tr>\n",
       "    <tr>\n",
       "      <th>id2714485</th>\n",
       "      <td>1</td>\n",
       "      <td>2016-01-05 15:56:26</td>\n",
       "      <td>2016-01-05 16:02:39</td>\n",
       "      <td>1</td>\n",
       "      <td>-73.982079</td>\n",
       "      <td>40.749062</td>\n",
       "      <td>-73.974632</td>\n",
       "      <td>40.757107</td>\n",
       "      <td>N</td>\n",
       "      <td>373</td>\n",
       "    </tr>\n",
       "    <tr>\n",
       "      <th>id1209952</th>\n",
       "      <td>1</td>\n",
       "      <td>2016-04-05 14:44:25</td>\n",
       "      <td>2016-04-05 14:47:43</td>\n",
       "      <td>1</td>\n",
       "      <td>-73.979538</td>\n",
       "      <td>40.781750</td>\n",
       "      <td>-73.972809</td>\n",
       "      <td>40.790585</td>\n",
       "      <td>N</td>\n",
       "      <td>198</td>\n",
       "    </tr>\n",
       "  </tbody>\n",
       "</table>\n",
       "<p>1437158 rows × 10 columns</p>\n",
       "</div>"
      ],
      "text/plain": [
       "           vendor_id      pickup_datetime     dropoff_datetime  \\\n",
       "id                                                               \n",
       "id2875421          2  2016-03-14 17:24:55  2016-03-14 17:32:30   \n",
       "id2377394          1  2016-06-12 00:43:35  2016-06-12 00:54:38   \n",
       "id3858529          2  2016-01-19 11:35:24  2016-01-19 12:10:48   \n",
       "id3504673          2  2016-04-06 19:32:31  2016-04-06 19:39:40   \n",
       "id2181028          2  2016-03-26 13:30:55  2016-03-26 13:38:10   \n",
       "...              ...                  ...                  ...   \n",
       "id2376096          2  2016-04-08 13:31:04  2016-04-08 13:44:02   \n",
       "id1049543          1  2016-01-10 07:35:15  2016-01-10 07:46:10   \n",
       "id2304944          2  2016-04-22 06:57:41  2016-04-22 07:10:25   \n",
       "id2714485          1  2016-01-05 15:56:26  2016-01-05 16:02:39   \n",
       "id1209952          1  2016-04-05 14:44:25  2016-04-05 14:47:43   \n",
       "\n",
       "           passenger_count  pickup_longitude  pickup_latitude  \\\n",
       "id                                                              \n",
       "id2875421                1        -73.982155        40.767937   \n",
       "id2377394                1        -73.980415        40.738564   \n",
       "id3858529                1        -73.979027        40.763939   \n",
       "id3504673                1        -74.010040        40.719971   \n",
       "id2181028                1        -73.973053        40.793209   \n",
       "...                    ...               ...              ...   \n",
       "id2376096                4        -73.982201        40.745522   \n",
       "id1049543                1        -74.000946        40.747379   \n",
       "id2304944                1        -73.959129        40.768799   \n",
       "id2714485                1        -73.982079        40.749062   \n",
       "id1209952                1        -73.979538        40.781750   \n",
       "\n",
       "           dropoff_longitude  dropoff_latitude store_and_fwd_flag  \\\n",
       "id                                                                  \n",
       "id2875421         -73.964630         40.765602                  N   \n",
       "id2377394         -73.999481         40.731152                  N   \n",
       "id3858529         -74.005333         40.710087                  N   \n",
       "id3504673         -74.012268         40.706718                  N   \n",
       "id2181028         -73.972923         40.782520                  N   \n",
       "...                      ...               ...                ...   \n",
       "id2376096         -73.994911         40.740170                  N   \n",
       "id1049543         -73.970184         40.796547                  N   \n",
       "id2304944         -74.004433         40.707371                  N   \n",
       "id2714485         -73.974632         40.757107                  N   \n",
       "id1209952         -73.972809         40.790585                  N   \n",
       "\n",
       "           trip_duration  \n",
       "id                        \n",
       "id2875421            455  \n",
       "id2377394            663  \n",
       "id3858529           2124  \n",
       "id3504673            429  \n",
       "id2181028            435  \n",
       "...                  ...  \n",
       "id2376096            778  \n",
       "id1049543            655  \n",
       "id2304944            764  \n",
       "id2714485            373  \n",
       "id1209952            198  \n",
       "\n",
       "[1437158 rows x 10 columns]"
      ]
     },
     "execution_count": 9,
     "metadata": {},
     "output_type": "execute_result"
    }
   ],
   "source": [
    "train_df"
   ]
  },
  {
   "cell_type": "markdown",
   "id": "phantom-bracket",
   "metadata": {},
   "source": [
    "#### 去除无用的dropoff_datetime"
   ]
  },
  {
   "cell_type": "code",
   "execution_count": 10,
   "id": "violent-observation",
   "metadata": {},
   "outputs": [
    {
     "data": {
      "text/plain": [
       "id\n",
       "id2875421    2016-03-14 17:32:30\n",
       "id2377394    2016-06-12 00:54:38\n",
       "id3858529    2016-01-19 12:10:48\n",
       "id3504673    2016-04-06 19:39:40\n",
       "id2181028    2016-03-26 13:38:10\n",
       "                    ...         \n",
       "id2376096    2016-04-08 13:44:02\n",
       "id1049543    2016-01-10 07:46:10\n",
       "id2304944    2016-04-22 07:10:25\n",
       "id2714485    2016-01-05 16:02:39\n",
       "id1209952    2016-04-05 14:47:43\n",
       "Name: dropoff_datetime, Length: 1437158, dtype: object"
      ]
     },
     "execution_count": 10,
     "metadata": {},
     "output_type": "execute_result"
    }
   ],
   "source": [
    "train_df.pop('dropoff_datetime')"
   ]
  },
  {
   "cell_type": "markdown",
   "id": "literary-pizza",
   "metadata": {},
   "source": [
    "### 处理训练集label并分离"
   ]
  },
  {
   "cell_type": "code",
   "execution_count": 11,
   "id": "sporting-colorado",
   "metadata": {},
   "outputs": [
    {
     "data": {
      "text/plain": [
       "Text(0, 0.5, 'Count')"
      ]
     },
     "execution_count": 11,
     "metadata": {},
     "output_type": "execute_result"
    },
    {
     "data": {
      "image/png": "[encoded data removed]",
      "text/plain": [
       "<Figure size 432x288 with 1 Axes>"
      ]
     },
     "metadata": {
      "needs_background": "light"
     },
     "output_type": "display_data"
    }
   ],
   "source": [
    "%matplotlib inline\n",
    "sns.distplot(train_df['trip_duration'])\n",
    "plt.title(\"Histogram of the trip duration in seconds\")\n",
    "plt.xlabel(\"Trip duration (seconds)\")\n",
    "plt.ylabel(\"Count\")\n",
    "#plt.xlim(0,100000)"
   ]
  },
  {
   "cell_type": "code",
   "execution_count": 12,
   "id": "emotional-grain",
   "metadata": {},
   "outputs": [
    {
     "data": {
      "text/plain": [
       "Text(0, 0.5, 'Count')"
      ]
     },
     "execution_count": 12,
     "metadata": {},
     "output_type": "execute_result"
    },
    {
     "data": {
      "image/png": "[encoded data removed]",
      "text/plain": [
       "<Figure size 432x288 with 1 Axes>"
      ]
     },
     "metadata": {
      "needs_background": "light"
     },
     "output_type": "display_data"
    }
   ],
   "source": [
    "sns.distplot(np.log(train_df['trip_duration']))\n",
    "plt.title(\"Histogram of the trip duration in seconds\")\n",
    "plt.xlabel(\"Trip duration (seconds)\")\n",
    "plt.ylabel(\"Count\")"
   ]
  },
  {
   "cell_type": "code",
   "execution_count": 13,
   "id": "graduate-repository",
   "metadata": {},
   "outputs": [
    {
     "data": {
      "text/plain": [
       "368      1622\n",
       "348      1582\n",
       "408      1582\n",
       "367      1580\n",
       "358      1575\n",
       "         ... \n",
       "7354        1\n",
       "13184       1\n",
       "5605        1\n",
       "5304        1\n",
       "6024        1\n",
       "Name: trip_duration, Length: 6014, dtype: int64"
      ]
     },
     "execution_count": 13,
     "metadata": {},
     "output_type": "execute_result"
    }
   ],
   "source": [
    "train_df.trip_duration.value_counts()"
   ]
  },
  {
   "cell_type": "code",
   "execution_count": 14,
   "id": "artificial-viewer",
   "metadata": {},
   "outputs": [],
   "source": [
    "y_train = np.log1p(train_df.pop('trip_duration'))"
   ]
  },
  {
   "cell_type": "markdown",
   "id": "awful-northern",
   "metadata": {},
   "source": [
    "#### 合并训练集和测试集进行处理"
   ]
  },
  {
   "cell_type": "code",
   "execution_count": 15,
   "id": "numerous-persian",
   "metadata": {},
   "outputs": [],
   "source": [
    "all_df = pd.concat((train_df,test_df), axis=0)"
   ]
  },
  {
   "cell_type": "markdown",
   "id": "german-finder",
   "metadata": {},
   "source": [
    "### 处理时间"
   ]
  },
  {
   "cell_type": "code",
   "execution_count": 16,
   "id": "olympic-smooth",
   "metadata": {},
   "outputs": [],
   "source": [
    "import datetime\n",
    "from datetime import datetime"
   ]
  },
  {
   "cell_type": "code",
   "execution_count": 17,
   "id": "double-participant",
   "metadata": {},
   "outputs": [],
   "source": [
    "all_df['pickup_datetime'] = pd.to_datetime(all_df.pickup_datetime)\n",
    "all_df['Month'] = all_df['pickup_datetime'].dt.month\n",
    "all_df['Day'] = all_df['pickup_datetime'].dt.day\n",
    "all_df['Hour'] = all_df['pickup_datetime'].dt.hour\n",
    "all_df['Weekday'] = all_df['pickup_datetime'].dt.dayofweek"
   ]
  },
  {
   "cell_type": "markdown",
   "id": "italic-exhibition",
   "metadata": {},
   "source": [
    "年：舍弃，均为2016\n",
    "\n",
    "月:直接做成类别，因为题目中的月份不多\n",
    "\n",
    "天:\n",
    "\n",
    "a:5,13\n",
    "\n",
    "b:7,30\n",
    "\n",
    "c:其他\n",
    "\n",
    "月和天结合生成一个星期的特征\n",
    "\n",
    "hour:\n",
    "\n",
    "w:5,6,7\n",
    "\n",
    "x:0.1.2.3.4.8.9.10.19.20.21.23\n",
    "\n",
    "y:11.12.13.17.18.22\n",
    "\n",
    "z:14.15.16"
   ]
  },
  {
   "cell_type": "code",
   "execution_count": 18,
   "id": "hollow-camping",
   "metadata": {},
   "outputs": [],
   "source": [
    "all_df['Day'] = all_df['Day'].astype(str)\n",
    "all_df['Day'] = all_df['Day'].map({'5':'a', '13':'a',\n",
    "                                   '7':'b',  '30':'b',\n",
    "                                   '1':'c','2':'c','3':'c','4':'c',\n",
    "                                   '6':'c','8':'c','9':'c','10':'c','11':'c','12':'c','14':'c','15':'c','16':'c','17':'c',\n",
    "                                   '18':'c','19':'c','20':'c','21':'c','22':'c','23':'c','24':'c','25':'c','26':'c','27':'c',\n",
    "                                   '28':'c','29':'c','30':'c','31':'c'\n",
    "                                  })"
   ]
  },
  {
   "cell_type": "code",
   "execution_count": 19,
   "id": "rolled-footwear",
   "metadata": {},
   "outputs": [],
   "source": [
    "all_df['Hour'] = all_df['Hour'].astype(str)\n",
    "all_df['Hour'] = all_df['Hour'].map({\n",
    "                                    '5':'w', '6':'w','7':'w',\n",
    "                                    '0':'x','1':'x','2':'x','3':'x','4':'x','8':'x','9':'x','10':'x','19':'x','20':'x','21':'x','23':'x',\n",
    "                                    '11':'y','12':'y','13':'y','17':'y','18':'y','22':'y',\n",
    "                                    '14':'z','15':'z','16':'z',\n",
    "                                  })"
   ]
  },
  {
   "cell_type": "code",
   "execution_count": 20,
   "id": "binding-journalism",
   "metadata": {},
   "outputs": [
    {
     "data": {
      "text/plain": [
       "id\n",
       "id2875421   2016-03-14 17:24:55\n",
       "id2377394   2016-06-12 00:43:35\n",
       "id3858529   2016-01-19 11:35:24\n",
       "id3504673   2016-04-06 19:32:31\n",
       "id2181028   2016-03-26 13:30:55\n",
       "                    ...        \n",
       "id3008929   2016-01-01 00:02:52\n",
       "id3700764   2016-01-01 00:01:52\n",
       "id2568735   2016-01-01 00:01:24\n",
       "id1384355   2016-01-01 00:00:28\n",
       "id0621643   2016-01-01 00:00:22\n",
       "Name: pickup_datetime, Length: 2062292, dtype: datetime64[ns]"
      ]
     },
     "execution_count": 20,
     "metadata": {},
     "output_type": "execute_result"
    }
   ],
   "source": [
    "all_df['Weekday'] = all_df['Weekday'].astype(str)\n",
    "all_df['Month'] = all_df['Month'].astype(str)\n",
    "all_df['vendor_id'] = all_df['vendor_id'].astype(str)\n",
    "all_df.pop('pickup_datetime')"
   ]
  },
  {
   "cell_type": "markdown",
   "id": "orange-implement",
   "metadata": {},
   "source": [
    "添加距离"
   ]
  },
  {
   "cell_type": "code",
   "execution_count": 21,
   "id": "linear-maldives",
   "metadata": {},
   "outputs": [],
   "source": [
    "from math import radians, cos, sin, asin, sqrt\n",
    " \n",
    "def haversine(lon1, lat1, lon2, lat2): # 经度1，纬度1，经度2，纬度2 （十进制度数）\n",
    "    # 将十进制度数转化为弧度\n",
    "    lon1, lat1, lon2, lat2 = map(radians, [lon1, lat1, lon2, lat2])\n",
    " \n",
    "    # haversine公式\n",
    "    dlon = lon2 - lon1 \n",
    "    dlat = lat2 - lat1 \n",
    "    a = sin(dlat/2)**2 + cos(lat1) * cos(lat2) * sin(dlon/2)**2\n",
    "    c = 2 * asin(sqrt(a)) \n",
    "    r = 6371 # 地球平均半径，单位为公里\n",
    "    return (c * r * 1000)\n",
    "\n",
    "def mahattan(lon1, lat1, lon2, lat2): # 经度1，纬度1，经度2，纬度2 （十进制度数）\n",
    "    a = haversine(lon1, lat1, lon1, lat2)\n",
    "    b = haversine(lon1, lat2, lon2, lat2)\n",
    "    return (a+b)\n",
    "\n",
    "\n",
    "def bearing_array(lat1, lng1, lat2, lng2):\n",
    "    AVG_EARTH_RADIUS = 6371  # in km\n",
    "    lng_delta_rad = np.radians(lng2 - lng1)\n",
    "    lat1, lng1, lat2, lng2 = map(np.radians, (lat1, lng1, lat2, lng2))\n",
    "    y = np.sin(lng_delta_rad) * np.cos(lat2)\n",
    "    x = np.cos(lat1) * np.sin(lat2) - np.sin(lat1) * np.cos(lat2) * np.cos(lng_delta_rad)\n",
    "    return np.degrees(np.arctan2(y, x))\n"
   ]
  },
  {
   "cell_type": "code",
   "execution_count": 22,
   "id": "breeding-gnome",
   "metadata": {},
   "outputs": [],
   "source": [
    "all_df['distance'] = all_df[['pickup_longitude', 'pickup_latitude', 'dropoff_longitude', 'dropoff_latitude']].apply(lambda x:\n",
    "                            haversine(x['pickup_longitude'],x['pickup_latitude'],x['dropoff_longitude'],x['dropoff_latitude']),axis = 1)\n",
    "\n",
    "all_df['mahattan'] = all_df[['pickup_longitude', 'pickup_latitude', 'dropoff_longitude', 'dropoff_latitude']].apply(lambda x:\n",
    "                              mahattan(x['pickup_longitude'],x['pickup_latitude'],x['dropoff_longitude'],x['dropoff_latitude']),axis = 1)\n",
    "\n",
    "all_df['direction'] = all_df[['pickup_longitude', 'pickup_latitude', 'dropoff_longitude', 'dropoff_latitude']].apply(lambda x:\n",
    "                             bearing_array(x['pickup_latitude'],x['pickup_longitude'],x['dropoff_latitude'],x['dropoff_longitude']),axis = 1)"
   ]
  },
  {
   "cell_type": "code",
   "execution_count": 23,
   "id": "dirty-river",
   "metadata": {},
   "outputs": [],
   "source": [
    "all_df['dist_long'] = all_df['pickup_longitude'] - all_df['dropoff_longitude']\n",
    "all_df['dist_lat'] = all_df['pickup_latitude'] - all_df['dropoff_latitude']"
   ]
  },
  {
   "cell_type": "markdown",
   "id": "simple-reminder",
   "metadata": {},
   "source": [
    "#### 添加位置堆"
   ]
  },
  {
   "cell_type": "code",
   "execution_count": 24,
   "id": "increasing-mineral",
   "metadata": {},
   "outputs": [],
   "source": [
    "from sklearn.cluster import KMeans\n",
    "kmeans = KMeans(n_clusters=5, random_state=42).fit(all_df[['pickup_longitude','pickup_latitude']])\n",
    "pickup_clusters = kmeans.predict(all_df[['pickup_longitude','pickup_latitude']])"
   ]
  },
  {
   "cell_type": "code",
   "execution_count": 25,
   "id": "married-happening",
   "metadata": {},
   "outputs": [],
   "source": [
    "kmeans = KMeans(n_clusters=5, random_state=42).fit(all_df[['dropoff_longitude','dropoff_latitude']])\n",
    "dropoff_clusters = kmeans.predict(all_df[['dropoff_longitude','dropoff_latitude']])"
   ]
  },
  {
   "cell_type": "code",
   "execution_count": 26,
   "id": "athletic-acrylic",
   "metadata": {},
   "outputs": [],
   "source": [
    "all_df['pickup_clusters'] = pickup_clusters\n",
    "all_df['dropoff_clusters'] = dropoff_clusters \n",
    "all_df['pickup_clusters'] = all_df['pickup_clusters'].astype(str)\n",
    "all_df['dropoff_clusters'] = all_df['dropoff_clusters'].astype(str)"
   ]
  },
  {
   "cell_type": "code",
   "execution_count": 27,
   "id": "executive-biodiversity",
   "metadata": {
    "scrolled": false
   },
   "outputs": [
    {
     "name": "stdout",
     "output_type": "stream",
     "text": [
      "<class 'pandas.core.frame.DataFrame'>\n",
      "Index: 2062292 entries, id2875421 to id0621643\n",
      "Data columns (total 44 columns):\n",
      " #   Column                Dtype  \n",
      "---  ------                -----  \n",
      " 0   passenger_count       int64  \n",
      " 1   pickup_longitude      float64\n",
      " 2   pickup_latitude       float64\n",
      " 3   dropoff_longitude     float64\n",
      " 4   dropoff_latitude      float64\n",
      " 5   distance              float64\n",
      " 6   mahattan              float64\n",
      " 7   direction             float64\n",
      " 8   dist_long             float64\n",
      " 9   dist_lat              float64\n",
      " 10  vendor_id_1           uint8  \n",
      " 11  vendor_id_2           uint8  \n",
      " 12  store_and_fwd_flag_N  uint8  \n",
      " 13  store_and_fwd_flag_Y  uint8  \n",
      " 14  Month_1               uint8  \n",
      " 15  Month_2               uint8  \n",
      " 16  Month_3               uint8  \n",
      " 17  Month_4               uint8  \n",
      " 18  Month_5               uint8  \n",
      " 19  Month_6               uint8  \n",
      " 20  Day_a                 uint8  \n",
      " 21  Day_b                 uint8  \n",
      " 22  Day_c                 uint8  \n",
      " 23  Hour_w                uint8  \n",
      " 24  Hour_x                uint8  \n",
      " 25  Hour_y                uint8  \n",
      " 26  Hour_z                uint8  \n",
      " 27  Weekday_0             uint8  \n",
      " 28  Weekday_1             uint8  \n",
      " 29  Weekday_2             uint8  \n",
      " 30  Weekday_3             uint8  \n",
      " 31  Weekday_4             uint8  \n",
      " 32  Weekday_5             uint8  \n",
      " 33  Weekday_6             uint8  \n",
      " 34  pickup_clusters_0     uint8  \n",
      " 35  pickup_clusters_1     uint8  \n",
      " 36  pickup_clusters_2     uint8  \n",
      " 37  pickup_clusters_3     uint8  \n",
      " 38  pickup_clusters_4     uint8  \n",
      " 39  dropoff_clusters_0    uint8  \n",
      " 40  dropoff_clusters_1    uint8  \n",
      " 41  dropoff_clusters_2    uint8  \n",
      " 42  dropoff_clusters_3    uint8  \n",
      " 43  dropoff_clusters_4    uint8  \n",
      "dtypes: float64(9), int64(1), uint8(34)\n",
      "memory usage: 319.9+ MB\n"
     ]
    }
   ],
   "source": [
    "all_dummy_df = pd.get_dummies(all_df)\n",
    "all_dummy_df.info()"
   ]
  },
  {
   "cell_type": "code",
   "execution_count": 28,
   "id": "c53b2d3b",
   "metadata": {},
   "outputs": [
    {
     "data": {
      "text/plain": [
       "Index(['passenger_count', 'pickup_longitude', 'pickup_latitude',\n",
       "       'dropoff_longitude', 'dropoff_latitude', 'distance', 'mahattan',\n",
       "       'direction', 'dist_long', 'dist_lat', 'vendor_id_1', 'vendor_id_2',\n",
       "       'store_and_fwd_flag_N', 'store_and_fwd_flag_Y', 'Month_1', 'Month_2',\n",
       "       'Month_3', 'Month_4', 'Month_5', 'Month_6', 'Day_a', 'Day_b', 'Day_c',\n",
       "       'Hour_w', 'Hour_x', 'Hour_y', 'Hour_z', 'Weekday_0', 'Weekday_1',\n",
       "       'Weekday_2', 'Weekday_3', 'Weekday_4', 'Weekday_5', 'Weekday_6',\n",
       "       'pickup_clusters_0', 'pickup_clusters_1', 'pickup_clusters_2',\n",
       "       'pickup_clusters_3', 'pickup_clusters_4', 'dropoff_clusters_0',\n",
       "       'dropoff_clusters_1', 'dropoff_clusters_2', 'dropoff_clusters_3',\n",
       "       'dropoff_clusters_4'],\n",
       "      dtype='object')"
      ]
     },
     "execution_count": 28,
     "metadata": {},
     "output_type": "execute_result"
    }
   ],
   "source": [
    "#标准化数据\n",
    "numeric_cols = all_dummy_df.columns[all_dummy_df.dtypes != 'object']\n",
    "numeric_cols"
   ]
  },
  {
   "cell_type": "code",
   "execution_count": 29,
   "id": "e391fc11",
   "metadata": {},
   "outputs": [],
   "source": [
    "numeric_col_means = all_dummy_df.loc[:, numeric_cols].mean()\n",
    "numeric_col_std = all_dummy_df.loc[:, numeric_cols].std()\n",
    "all_dummy_df.loc[:, numeric_cols] = (all_dummy_df.loc[:, numeric_cols] - numeric_col_means) / numeric_col_std"
   ]
  },
  {
   "cell_type": "code",
   "execution_count": 30,
   "id": "4623d583",
   "metadata": {},
   "outputs": [],
   "source": [
    "dummy_train_df = all_dummy_df.loc[train_df.index]\n",
    "dummy_test_df = all_dummy_df.loc[test_df.index]"
   ]
  },
  {
   "cell_type": "code",
   "execution_count": 31,
   "id": "c5c0b114",
   "metadata": {},
   "outputs": [],
   "source": [
    "X_train = dummy_train_df.values\n",
    "X_test = dummy_test_df.values"
   ]
  },
  {
   "cell_type": "markdown",
   "id": "damaged-warrant",
   "metadata": {},
   "source": [
    "Ridge回归"
   ]
  },
  {
   "cell_type": "code",
   "execution_count": 32,
   "id": "northern-classroom",
   "metadata": {},
   "outputs": [],
   "source": [
    "# from sklearn.linear_model import Ridge\n",
    "# from sklearn.model_selection import cross_val_score\n",
    "# alphas = np.logspace(-1, 5, 10)\n",
    "# test_scores = []\n",
    "# for alpha in alphas:\n",
    "#     clf = Ridge(alpha)\n",
    "#     test_score = np.sqrt(-cross_val_score(clf, X_train, y_train, cv=10, scoring='neg_mean_squared_error'))\n",
    "#     test_scores.append(np.mean(test_score))\n",
    "# plt.plot(alphas, test_scores)\n",
    "# plt.title(\"Alpha vs CV Error\");"
   ]
  },
  {
   "cell_type": "markdown",
   "id": "second-stream",
   "metadata": {},
   "source": [
    "随机树"
   ]
  },
  {
   "cell_type": "code",
   "execution_count": 33,
   "id": "cfee568e",
   "metadata": {},
   "outputs": [],
   "source": [
    "# from sklearn.ensemble import RandomForestRegressor\n",
    "# from sklearn.model_selection import cross_val_score\n",
    "# max_features = [.1, .3, .5, .7, .9, .99]\n",
    "# test_scores = []\n",
    "# for max_feat in max_features:\n",
    "#     clf = RandomForestRegressor(n_estimators=200, max_features=max_feat)\n",
    "#     test_score = np.sqrt(-cross_val_score(clf, X_train, y_train, cv=5, scoring='neg_mean_squared_error'))\n",
    "#     test_scores.append(np.mean(test_score))\n",
    "# plt.plot(max_features, test_scores)\n",
    "# plt.title(\"Max Features vs CV Error\");"
   ]
  },
  {
   "cell_type": "markdown",
   "id": "motivated-composition",
   "metadata": {},
   "source": [
    "Bagging把很多的小分类器放在一起，每个train随机的一部分数据，然后把它们的最终结果综合起来（多数投票制）\n",
    "决策树"
   ]
  },
  {
   "cell_type": "code",
   "execution_count": 34,
   "id": "minor-cliff",
   "metadata": {},
   "outputs": [],
   "source": [
    "# from sklearn.ensemble import AdaBoostRegressor\n",
    "# from sklearn.model_selection import cross_val_score\n",
    "# params = [10, 15, 20, 25, 30, 35, 40, 45, 50]\n",
    "# test_scores = []\n",
    "# for param in params:\n",
    "#     clf = AdaBoostRegressor(n_estimators=param)\n",
    "#     test_score = np.sqrt(-cross_val_score(clf, X_train, y_train, cv=10, scoring='neg_mean_squared_error'))\n",
    "#     test_scores.append(np.mean(test_score))\n",
    "# import matplotlib.pyplot as plt\n",
    "# %matplotlib inline\n",
    "# plt.plot(params, test_scores)\n",
    "# plt.title(\"n_estimator vs CV Error\");"
   ]
  },
  {
   "cell_type": "markdown",
   "id": "heavy-midwest",
   "metadata": {},
   "source": [
    "#### Boosting\n",
    "Boosting比Bagging理论上更高级点，它也是揽来一把的分类器。但是把他们线性排列。下一个分类器把上一个分类器分类得不好的地方加上更高的权重"
   ]
  },
  {
   "cell_type": "code",
   "execution_count": 35,
   "id": "numerical-northwest",
   "metadata": {},
   "outputs": [],
   "source": [
    "# from sklearn.ensemble import AdaBoostRegressor\n",
    "# from sklearn.model_selection import cross_val_score\n",
    "# params = [10, 15, 20, 25, 30, 35, 40, 45, 50]\n",
    "# test_scores = []\n",
    "# for param in params:\n",
    "#     clf =AdaBoostRegressor(n_estimators=param)\n",
    "#     test_score = np.sqrt(-cross_val_score(clf, X_train, y_train, cv=10, scoring='neg_mean_squared_error'))\n",
    "#     test_scores.append(np.mean(test_score))\n",
    "# plt.plot(params, test_scores)\n",
    "# plt.title(\"n_estimator vs CV Error\");"
   ]
  },
  {
   "cell_type": "code",
   "execution_count": 36,
   "id": "intimate-people",
   "metadata": {},
   "outputs": [],
   "source": [
    "from xgboost import XGBRegressor\n",
    "from lightgbm import LGBMRegressor\n",
    "from sklearn.model_selection import cross_val_score"
   ]
  },
  {
   "cell_type": "markdown",
   "id": "alternative-colorado",
   "metadata": {},
   "source": [
    "#### lightgbm"
   ]
  },
  {
   "cell_type": "code",
   "execution_count": 37,
   "id": "chronic-translator",
   "metadata": {},
   "outputs": [
    {
     "data": {
      "image/png": "[encoded data removed]",
      "text/plain": [
       "<Figure size 432x288 with 1 Axes>"
      ]
     },
     "metadata": {
      "needs_background": "light"
     },
     "output_type": "display_data"
    }
   ],
   "source": [
    "params = [9,10,11,12,13,14]\n",
    "test_scores = []\n",
    "for param in params:\n",
    "    clf = LGBMRegressor(max_depth=param)\n",
    "    test_score = np.sqrt(-cross_val_score(clf, X_train, y_train, cv=10, scoring='neg_mean_squared_error'))\n",
    "    test_scores.append(np.mean(test_score))\n",
    "import matplotlib.pyplot as plt\n",
    "%matplotlib inline\n",
    "plt.plot(params, test_scores)\n",
    "plt.title(\"max_depth vs CV Error\");"
   ]
  },
  {
   "cell_type": "code",
   "execution_count": 42,
   "id": "tracked-elizabeth",
   "metadata": {},
   "outputs": [],
   "source": [
    "clf1 = LGBMRegressor(max_depth=13)\n",
    "clf1.fit(X_train,y_train)\n",
    "y_reslut2 = np.exp(clf1.predict(X_test))"
   ]
  },
  {
   "cell_type": "markdown",
   "id": "challenging-transfer",
   "metadata": {},
   "source": [
    "XGB"
   ]
  },
  {
   "cell_type": "code",
   "execution_count": null,
   "id": "sticky-nation",
   "metadata": {},
   "outputs": [],
   "source": [
    "params = [9,10,11,12,13,14]\n",
    "test_scores = []\n",
    "for param in params:\n",
    "    clf = XGBRegressor(max_depth=param)\n",
    "    test_score = np.sqrt(-cross_val_score(clf, X_train, y_train, cv=10, scoring='neg_mean_squared_error'))\n",
    "    test_scores.append(np.mean(test_score))\n",
    "import matplotlib.pyplot as plt\n",
    "%matplotlib inline\n",
    "plt.plot(params, test_scores)\n",
    "plt.title(\"max_depth vs CV Error\");"
   ]
  },
  {
   "cell_type": "code",
   "execution_count": 46,
   "id": "naval-highway",
   "metadata": {},
   "outputs": [
    {
     "name": "stdout",
     "output_type": "stream",
     "text": [
      "[11:56:43] WARNING: C:/Users/Administrator/workspace/xgboost-win64_release_1.3.0/src/objective/regression_obj.cu:170: reg:linear is now deprecated in favor of reg:squarederror.\n",
      "[11:56:43] WARNING: C:/Users/Administrator/workspace/xgboost-win64_release_1.3.0/src/learner.cc:541: \n",
      "Parameters: { silent } might not be used.\n",
      "\n",
      "  This may not be accurate due to some parameters are only used in language bindings but\n",
      "  passed down to XGBoost core.  Or some parameters are not used but slip through this\n",
      "  verification. Please open an issue if you find above cases.\n",
      "\n",
      "\n"
     ]
    }
   ],
   "source": [
    "clf = XGBRegressor(max_depth=10)\n",
    "clf.fit(X_train,y_train)\n",
    "y_reslut1 = np.exp(clf.predict(X_test))"
   ]
  },
  {
   "cell_type": "markdown",
   "id": "oriental-commonwealth",
   "metadata": {},
   "source": [
    "#### 合并"
   ]
  },
  {
   "cell_type": "code",
   "execution_count": 47,
   "id": "unauthorized-pilot",
   "metadata": {},
   "outputs": [],
   "source": [
    "#ensemble = (0.8*pred_lgb + 0.4*pred_test) 0.42295\n",
    "#ensemble = (0.7*pred_lgb + 0.3*pred_test) 0.38148\n",
    "y_reslut = (0.6*y_reslut1 + 0.4*y_reslut2) #0.38124\n",
    "#ensemble = (0.55*pred_lgb + 0.45*pred_test) 0.38126"
   ]
  },
  {
   "cell_type": "code",
   "execution_count": 48,
   "id": "through-restaurant",
   "metadata": {},
   "outputs": [],
   "source": [
    "submission_df = pd.DataFrame(data= {'id' : test_df.index, 'trip_duration': y_reslut})"
   ]
  },
  {
   "cell_type": "code",
   "execution_count": 49,
   "id": "connected-cinema",
   "metadata": {},
   "outputs": [
    {
     "data": {
      "text/html": [
       "<div>\n",
       "<style scoped>\n",
       "    .dataframe tbody tr th:only-of-type {\n",
       "        vertical-align: middle;\n",
       "    }\n",
       "\n",
       "    .dataframe tbody tr th {\n",
       "        vertical-align: top;\n",
       "    }\n",
       "\n",
       "    .dataframe thead th {\n",
       "        text-align: right;\n",
       "    }\n",
       "</style>\n",
       "<table border=\"1\" class=\"dataframe\">\n",
       "  <thead>\n",
       "    <tr style=\"text-align: right;\">\n",
       "      <th></th>\n",
       "      <th>id</th>\n",
       "      <th>trip_duration</th>\n",
       "    </tr>\n",
       "  </thead>\n",
       "  <tbody>\n",
       "    <tr>\n",
       "      <th>0</th>\n",
       "      <td>id3004672</td>\n",
       "      <td>851.385794</td>\n",
       "    </tr>\n",
       "    <tr>\n",
       "      <th>1</th>\n",
       "      <td>id3505355</td>\n",
       "      <td>535.902790</td>\n",
       "    </tr>\n",
       "    <tr>\n",
       "      <th>2</th>\n",
       "      <td>id1217141</td>\n",
       "      <td>484.339893</td>\n",
       "    </tr>\n",
       "    <tr>\n",
       "      <th>3</th>\n",
       "      <td>id2150126</td>\n",
       "      <td>1013.358722</td>\n",
       "    </tr>\n",
       "    <tr>\n",
       "      <th>4</th>\n",
       "      <td>id1598245</td>\n",
       "      <td>395.945939</td>\n",
       "    </tr>\n",
       "    <tr>\n",
       "      <th>...</th>\n",
       "      <td>...</td>\n",
       "      <td>...</td>\n",
       "    </tr>\n",
       "    <tr>\n",
       "      <th>625129</th>\n",
       "      <td>id3008929</td>\n",
       "      <td>288.518276</td>\n",
       "    </tr>\n",
       "    <tr>\n",
       "      <th>625130</th>\n",
       "      <td>id3700764</td>\n",
       "      <td>1172.279897</td>\n",
       "    </tr>\n",
       "    <tr>\n",
       "      <th>625131</th>\n",
       "      <td>id2568735</td>\n",
       "      <td>1619.341898</td>\n",
       "    </tr>\n",
       "    <tr>\n",
       "      <th>625132</th>\n",
       "      <td>id1384355</td>\n",
       "      <td>2158.593654</td>\n",
       "    </tr>\n",
       "    <tr>\n",
       "      <th>625133</th>\n",
       "      <td>id0621643</td>\n",
       "      <td>1232.793743</td>\n",
       "    </tr>\n",
       "  </tbody>\n",
       "</table>\n",
       "<p>625134 rows × 2 columns</p>\n",
       "</div>"
      ],
      "text/plain": [
       "               id  trip_duration\n",
       "0       id3004672     851.385794\n",
       "1       id3505355     535.902790\n",
       "2       id1217141     484.339893\n",
       "3       id2150126    1013.358722\n",
       "4       id1598245     395.945939\n",
       "...           ...            ...\n",
       "625129  id3008929     288.518276\n",
       "625130  id3700764    1172.279897\n",
       "625131  id2568735    1619.341898\n",
       "625132  id1384355    2158.593654\n",
       "625133  id0621643    1232.793743\n",
       "\n",
       "[625134 rows x 2 columns]"
      ]
     },
     "execution_count": 49,
     "metadata": {},
     "output_type": "execute_result"
    }
   ],
   "source": [
    "submission_df"
   ]
  },
  {
   "cell_type": "code",
   "execution_count": 39,
   "id": "ignored-regular",
   "metadata": {},
   "outputs": [
    {
     "ename": "NameError",
     "evalue": "name 'submission_df' is not defined",
     "output_type": "error",
     "traceback": [
      "\u001b[1;31m---------------------------------------------------------------------------\u001b[0m",
      "\u001b[1;31mNameError\u001b[0m                                 Traceback (most recent call last)",
      "\u001b[1;32m<ipython-input-39-d941b6612864>\u001b[0m in \u001b[0;36m<module>\u001b[1;34m()\u001b[0m\n\u001b[0;32m      1\u001b[0m \u001b[1;32mimport\u001b[0m \u001b[0mcsv\u001b[0m\u001b[1;33m\u001b[0m\u001b[1;33m\u001b[0m\u001b[0m\n\u001b[1;32m----> 2\u001b[1;33m \u001b[0msubmission_df\u001b[0m\u001b[1;33m.\u001b[0m\u001b[0mto_csv\u001b[0m\u001b[1;33m(\u001b[0m\u001b[1;34m'results.csv'\u001b[0m\u001b[1;33m,\u001b[0m\u001b[0mindex\u001b[0m \u001b[1;33m=\u001b[0m \u001b[1;32mFalse\u001b[0m\u001b[1;33m)\u001b[0m\u001b[1;33m\u001b[0m\u001b[1;33m\u001b[0m\u001b[0m\n\u001b[0m",
      "\u001b[1;31mNameError\u001b[0m: name 'submission_df' is not defined"
     ]
    }
   ],
   "source": [
    "import csv\n",
    "submission_df.to_csv('results.csv',index = False)"
   ]
  },
  {
   "cell_type": "code",
   "execution_count": 44,
   "id": "satisfactory-young",
   "metadata": {},
   "outputs": [],
   "source": [
    "%matplotlib inline\n",
    "import matplotlib.pyplot as plt\n",
    "import seaborn as sns\n",
    "color = sns.color_palette()\n",
    "sns.set_style('darkgrid')\n",
    " \n",
    "features_list = dummy_train_df.columns.values\n",
    "feature_importance = clf1.feature_importances_\n",
    "sorted_idx = np.argsort(feature_importance)\n",
    " \n",
    "plt.figure(figsize=(5,7))\n",
    "plt.barh(range(len(sorted_idx)), feature_importance[sorted_idx], align='center')\n",
    "plt.yticks(range(len(sorted_idx)), features_list[sorted_idx])\n",
    "plt.xlabel('Importance')\n",
    "plt.title('Feature importances')\n",
    "plt.draw()\n",
    "plt.show()"
   ]
  },
  {
   "cell_type": "code",
   "execution_count": null,
   "id": "heavy-bidder",
   "metadata": {},
   "outputs": [],
   "source": []
  }
 ],
 "metadata": {
  "kernelspec": {
   "display_name": "Python [conda env:pytorch] *",
   "language": "python",
   "name": "conda-env-pytorch-py"
  },
  "language_info": {
   "codemirror_mode": {
    "name": "ipython",
    "version": 3
   },
   "file_extension": ".py",
   "mimetype": "text/x-python",
   "name": "python",
   "nbconvert_exporter": "python",
   "pygments_lexer": "ipython3",
   "version": "3.6.13"
  }
 },
 "nbformat": 4,
 "nbformat_minor": 5
}
